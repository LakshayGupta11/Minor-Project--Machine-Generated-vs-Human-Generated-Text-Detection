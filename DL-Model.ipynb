{
  "nbformat": 4,
  "nbformat_minor": 0,
  "metadata": {
    "colab": {
      "provenance": [],
      "authorship_tag": "ABX9TyOC5ox2CQmg/2qH93Va//fw",
      "include_colab_link": true
    },
    "kernelspec": {
      "name": "python3",
      "display_name": "Python 3"
    },
    "language_info": {
      "name": "python"
    }
  },
  "cells": [
    {
      "cell_type": "markdown",
      "metadata": {
        "id": "view-in-github",
        "colab_type": "text"
      },
      "source": [
        "<a href=\"https://colab.research.google.com/github/ZekeThePitcher/Minor-Project/blob/main/Another_copy_of_ensemble_attempt_1_new.ipynb\" target=\"_parent\"><img src=\"https://colab.research.google.com/assets/colab-badge.svg\" alt=\"Open In Colab\"/></a>"
      ]
    },
    {
      "cell_type": "code",
      "execution_count": null,
      "metadata": {
        "colab": {
          "base_uri": "https://localhost:8080/"
        },
        "id": "gFI2_mPYuhrN",
        "outputId": "4597f79b-db36-4c98-9898-d2a07166227c"
      },
      "outputs": [
        {
          "output_type": "stream",
          "name": "stdout",
          "text": [
            "Mounted at /content/drive\n"
          ]
        }
      ],
      "source": [
        "from google.colab import drive\n",
        "drive.mount('/content/drive')"
      ]
    },
    {
      "cell_type": "code",
      "execution_count": null,
      "metadata": {
        "id": "ELQB5Spgurqr"
      },
      "outputs": [],
      "source": [
        "import pandas as pd\n",
        "link = '/content/drive/MyDrive/ColabNotebooks/data4-100000.csv'\n",
        "data = pd.read_csv(link)"
      ]
    },
    {
      "cell_type": "code",
      "execution_count": null,
      "metadata": {
        "colab": {
          "base_uri": "https://localhost:8080/",
          "height": 273
        },
        "id": "CQgFE0DpvsGA",
        "outputId": "23c63b88-f9ef-4e4a-cfef-64bb512ddca4"
      },
      "outputs": [
        {
          "output_type": "execute_result",
          "data": {
            "text/plain": [
              "   Unnamed: 0  ended         0         1         2         3         4  \\\n",
              "0           0      0  0.112144 -0.024835  0.062954  0.059289  0.059902   \n",
              "1           1      0 -0.040155 -0.029773  0.039795  0.063586  0.051465   \n",
              "2           2      0  0.129149  0.041479  0.028066  0.031960  0.010417   \n",
              "3           3      1 -0.083624  0.058547  0.037818  0.029454  0.015685   \n",
              "4           4      0 -0.040699  0.003687  0.057338 -0.037602  0.089345   \n",
              "\n",
              "          5         6         7  ...       374       375       376       377  \\\n",
              "0  0.013061  0.020567 -0.012562  ...  0.084198  0.012157  0.010347 -0.001909   \n",
              "1  0.062381 -0.035089 -0.019570  ... -0.008494 -0.001888 -0.001198 -0.018533   \n",
              "2  0.002107 -0.051047  0.106573  ... -0.019327  0.036544 -0.045330  0.033543   \n",
              "3  0.002456  0.018189  0.007847  ... -0.077354 -0.068553  0.014939 -0.048553   \n",
              "4  0.037959  0.002849 -0.039542  ...  0.073939  0.025814 -0.045195  0.034519   \n",
              "\n",
              "        378       379       380       381       382       383  \n",
              "0  0.068593  0.036979 -0.014276 -0.047814 -0.186423 -0.000642  \n",
              "1 -0.172899  0.035925  0.080160  0.009349 -0.045357  0.073876  \n",
              "2  0.035930 -0.012167 -0.004636 -0.000542  0.034905  0.063359  \n",
              "3  0.014945  0.023252  0.042630 -0.121564 -0.094866 -0.005650  \n",
              "4  0.072605 -0.031004 -0.063632  0.013665  0.056927 -0.038605  \n",
              "\n",
              "[5 rows x 386 columns]"
            ],
            "text/html": [
              "\n",
              "  <div id=\"df-1fd63d7b-dbd4-4e70-9f52-a501c4962e13\" class=\"colab-df-container\">\n",
              "    <div>\n",
              "<style scoped>\n",
              "    .dataframe tbody tr th:only-of-type {\n",
              "        vertical-align: middle;\n",
              "    }\n",
              "\n",
              "    .dataframe tbody tr th {\n",
              "        vertical-align: top;\n",
              "    }\n",
              "\n",
              "    .dataframe thead th {\n",
              "        text-align: right;\n",
              "    }\n",
              "</style>\n",
              "<table border=\"1\" class=\"dataframe\">\n",
              "  <thead>\n",
              "    <tr style=\"text-align: right;\">\n",
              "      <th></th>\n",
              "      <th>Unnamed: 0</th>\n",
              "      <th>ended</th>\n",
              "      <th>0</th>\n",
              "      <th>1</th>\n",
              "      <th>2</th>\n",
              "      <th>3</th>\n",
              "      <th>4</th>\n",
              "      <th>5</th>\n",
              "      <th>6</th>\n",
              "      <th>7</th>\n",
              "      <th>...</th>\n",
              "      <th>374</th>\n",
              "      <th>375</th>\n",
              "      <th>376</th>\n",
              "      <th>377</th>\n",
              "      <th>378</th>\n",
              "      <th>379</th>\n",
              "      <th>380</th>\n",
              "      <th>381</th>\n",
              "      <th>382</th>\n",
              "      <th>383</th>\n",
              "    </tr>\n",
              "  </thead>\n",
              "  <tbody>\n",
              "    <tr>\n",
              "      <th>0</th>\n",
              "      <td>0</td>\n",
              "      <td>0</td>\n",
              "      <td>0.112144</td>\n",
              "      <td>-0.024835</td>\n",
              "      <td>0.062954</td>\n",
              "      <td>0.059289</td>\n",
              "      <td>0.059902</td>\n",
              "      <td>0.013061</td>\n",
              "      <td>0.020567</td>\n",
              "      <td>-0.012562</td>\n",
              "      <td>...</td>\n",
              "      <td>0.084198</td>\n",
              "      <td>0.012157</td>\n",
              "      <td>0.010347</td>\n",
              "      <td>-0.001909</td>\n",
              "      <td>0.068593</td>\n",
              "      <td>0.036979</td>\n",
              "      <td>-0.014276</td>\n",
              "      <td>-0.047814</td>\n",
              "      <td>-0.186423</td>\n",
              "      <td>-0.000642</td>\n",
              "    </tr>\n",
              "    <tr>\n",
              "      <th>1</th>\n",
              "      <td>1</td>\n",
              "      <td>0</td>\n",
              "      <td>-0.040155</td>\n",
              "      <td>-0.029773</td>\n",
              "      <td>0.039795</td>\n",
              "      <td>0.063586</td>\n",
              "      <td>0.051465</td>\n",
              "      <td>0.062381</td>\n",
              "      <td>-0.035089</td>\n",
              "      <td>-0.019570</td>\n",
              "      <td>...</td>\n",
              "      <td>-0.008494</td>\n",
              "      <td>-0.001888</td>\n",
              "      <td>-0.001198</td>\n",
              "      <td>-0.018533</td>\n",
              "      <td>-0.172899</td>\n",
              "      <td>0.035925</td>\n",
              "      <td>0.080160</td>\n",
              "      <td>0.009349</td>\n",
              "      <td>-0.045357</td>\n",
              "      <td>0.073876</td>\n",
              "    </tr>\n",
              "    <tr>\n",
              "      <th>2</th>\n",
              "      <td>2</td>\n",
              "      <td>0</td>\n",
              "      <td>0.129149</td>\n",
              "      <td>0.041479</td>\n",
              "      <td>0.028066</td>\n",
              "      <td>0.031960</td>\n",
              "      <td>0.010417</td>\n",
              "      <td>0.002107</td>\n",
              "      <td>-0.051047</td>\n",
              "      <td>0.106573</td>\n",
              "      <td>...</td>\n",
              "      <td>-0.019327</td>\n",
              "      <td>0.036544</td>\n",
              "      <td>-0.045330</td>\n",
              "      <td>0.033543</td>\n",
              "      <td>0.035930</td>\n",
              "      <td>-0.012167</td>\n",
              "      <td>-0.004636</td>\n",
              "      <td>-0.000542</td>\n",
              "      <td>0.034905</td>\n",
              "      <td>0.063359</td>\n",
              "    </tr>\n",
              "    <tr>\n",
              "      <th>3</th>\n",
              "      <td>3</td>\n",
              "      <td>1</td>\n",
              "      <td>-0.083624</td>\n",
              "      <td>0.058547</td>\n",
              "      <td>0.037818</td>\n",
              "      <td>0.029454</td>\n",
              "      <td>0.015685</td>\n",
              "      <td>0.002456</td>\n",
              "      <td>0.018189</td>\n",
              "      <td>0.007847</td>\n",
              "      <td>...</td>\n",
              "      <td>-0.077354</td>\n",
              "      <td>-0.068553</td>\n",
              "      <td>0.014939</td>\n",
              "      <td>-0.048553</td>\n",
              "      <td>0.014945</td>\n",
              "      <td>0.023252</td>\n",
              "      <td>0.042630</td>\n",
              "      <td>-0.121564</td>\n",
              "      <td>-0.094866</td>\n",
              "      <td>-0.005650</td>\n",
              "    </tr>\n",
              "    <tr>\n",
              "      <th>4</th>\n",
              "      <td>4</td>\n",
              "      <td>0</td>\n",
              "      <td>-0.040699</td>\n",
              "      <td>0.003687</td>\n",
              "      <td>0.057338</td>\n",
              "      <td>-0.037602</td>\n",
              "      <td>0.089345</td>\n",
              "      <td>0.037959</td>\n",
              "      <td>0.002849</td>\n",
              "      <td>-0.039542</td>\n",
              "      <td>...</td>\n",
              "      <td>0.073939</td>\n",
              "      <td>0.025814</td>\n",
              "      <td>-0.045195</td>\n",
              "      <td>0.034519</td>\n",
              "      <td>0.072605</td>\n",
              "      <td>-0.031004</td>\n",
              "      <td>-0.063632</td>\n",
              "      <td>0.013665</td>\n",
              "      <td>0.056927</td>\n",
              "      <td>-0.038605</td>\n",
              "    </tr>\n",
              "  </tbody>\n",
              "</table>\n",
              "<p>5 rows × 386 columns</p>\n",
              "</div>\n",
              "    <div class=\"colab-df-buttons\">\n",
              "\n",
              "  <div class=\"colab-df-container\">\n",
              "    <button class=\"colab-df-convert\" onclick=\"convertToInteractive('df-1fd63d7b-dbd4-4e70-9f52-a501c4962e13')\"\n",
              "            title=\"Convert this dataframe to an interactive table.\"\n",
              "            style=\"display:none;\">\n",
              "\n",
              "  <svg xmlns=\"http://www.w3.org/2000/svg\" height=\"24px\" viewBox=\"0 -960 960 960\">\n",
              "    <path d=\"M120-120v-720h720v720H120Zm60-500h600v-160H180v160Zm220 220h160v-160H400v160Zm0 220h160v-160H400v160ZM180-400h160v-160H180v160Zm440 0h160v-160H620v160ZM180-180h160v-160H180v160Zm440 0h160v-160H620v160Z\"/>\n",
              "  </svg>\n",
              "    </button>\n",
              "\n",
              "  <style>\n",
              "    .colab-df-container {\n",
              "      display:flex;\n",
              "      gap: 12px;\n",
              "    }\n",
              "\n",
              "    .colab-df-convert {\n",
              "      background-color: #E8F0FE;\n",
              "      border: none;\n",
              "      border-radius: 50%;\n",
              "      cursor: pointer;\n",
              "      display: none;\n",
              "      fill: #1967D2;\n",
              "      height: 32px;\n",
              "      padding: 0 0 0 0;\n",
              "      width: 32px;\n",
              "    }\n",
              "\n",
              "    .colab-df-convert:hover {\n",
              "      background-color: #E2EBFA;\n",
              "      box-shadow: 0px 1px 2px rgba(60, 64, 67, 0.3), 0px 1px 3px 1px rgba(60, 64, 67, 0.15);\n",
              "      fill: #174EA6;\n",
              "    }\n",
              "\n",
              "    .colab-df-buttons div {\n",
              "      margin-bottom: 4px;\n",
              "    }\n",
              "\n",
              "    [theme=dark] .colab-df-convert {\n",
              "      background-color: #3B4455;\n",
              "      fill: #D2E3FC;\n",
              "    }\n",
              "\n",
              "    [theme=dark] .colab-df-convert:hover {\n",
              "      background-color: #434B5C;\n",
              "      box-shadow: 0px 1px 3px 1px rgba(0, 0, 0, 0.15);\n",
              "      filter: drop-shadow(0px 1px 2px rgba(0, 0, 0, 0.3));\n",
              "      fill: #FFFFFF;\n",
              "    }\n",
              "  </style>\n",
              "\n",
              "    <script>\n",
              "      const buttonEl =\n",
              "        document.querySelector('#df-1fd63d7b-dbd4-4e70-9f52-a501c4962e13 button.colab-df-convert');\n",
              "      buttonEl.style.display =\n",
              "        google.colab.kernel.accessAllowed ? 'block' : 'none';\n",
              "\n",
              "      async function convertToInteractive(key) {\n",
              "        const element = document.querySelector('#df-1fd63d7b-dbd4-4e70-9f52-a501c4962e13');\n",
              "        const dataTable =\n",
              "          await google.colab.kernel.invokeFunction('convertToInteractive',\n",
              "                                                    [key], {});\n",
              "        if (!dataTable) return;\n",
              "\n",
              "        const docLinkHtml = 'Like what you see? Visit the ' +\n",
              "          '<a target=\"_blank\" href=https://colab.research.google.com/notebooks/data_table.ipynb>data table notebook</a>'\n",
              "          + ' to learn more about interactive tables.';\n",
              "        element.innerHTML = '';\n",
              "        dataTable['output_type'] = 'display_data';\n",
              "        await google.colab.output.renderOutput(dataTable, element);\n",
              "        const docLink = document.createElement('div');\n",
              "        docLink.innerHTML = docLinkHtml;\n",
              "        element.appendChild(docLink);\n",
              "      }\n",
              "    </script>\n",
              "  </div>\n",
              "\n",
              "\n",
              "<div id=\"df-ff9d2270-4098-41d6-8e52-58038ca5b509\">\n",
              "  <button class=\"colab-df-quickchart\" onclick=\"quickchart('df-ff9d2270-4098-41d6-8e52-58038ca5b509')\"\n",
              "            title=\"Suggest charts\"\n",
              "            style=\"display:none;\">\n",
              "\n",
              "<svg xmlns=\"http://www.w3.org/2000/svg\" height=\"24px\"viewBox=\"0 0 24 24\"\n",
              "     width=\"24px\">\n",
              "    <g>\n",
              "        <path d=\"M19 3H5c-1.1 0-2 .9-2 2v14c0 1.1.9 2 2 2h14c1.1 0 2-.9 2-2V5c0-1.1-.9-2-2-2zM9 17H7v-7h2v7zm4 0h-2V7h2v10zm4 0h-2v-4h2v4z\"/>\n",
              "    </g>\n",
              "</svg>\n",
              "  </button>\n",
              "\n",
              "<style>\n",
              "  .colab-df-quickchart {\n",
              "      --bg-color: #E8F0FE;\n",
              "      --fill-color: #1967D2;\n",
              "      --hover-bg-color: #E2EBFA;\n",
              "      --hover-fill-color: #174EA6;\n",
              "      --disabled-fill-color: #AAA;\n",
              "      --disabled-bg-color: #DDD;\n",
              "  }\n",
              "\n",
              "  [theme=dark] .colab-df-quickchart {\n",
              "      --bg-color: #3B4455;\n",
              "      --fill-color: #D2E3FC;\n",
              "      --hover-bg-color: #434B5C;\n",
              "      --hover-fill-color: #FFFFFF;\n",
              "      --disabled-bg-color: #3B4455;\n",
              "      --disabled-fill-color: #666;\n",
              "  }\n",
              "\n",
              "  .colab-df-quickchart {\n",
              "    background-color: var(--bg-color);\n",
              "    border: none;\n",
              "    border-radius: 50%;\n",
              "    cursor: pointer;\n",
              "    display: none;\n",
              "    fill: var(--fill-color);\n",
              "    height: 32px;\n",
              "    padding: 0;\n",
              "    width: 32px;\n",
              "  }\n",
              "\n",
              "  .colab-df-quickchart:hover {\n",
              "    background-color: var(--hover-bg-color);\n",
              "    box-shadow: 0 1px 2px rgba(60, 64, 67, 0.3), 0 1px 3px 1px rgba(60, 64, 67, 0.15);\n",
              "    fill: var(--button-hover-fill-color);\n",
              "  }\n",
              "\n",
              "  .colab-df-quickchart-complete:disabled,\n",
              "  .colab-df-quickchart-complete:disabled:hover {\n",
              "    background-color: var(--disabled-bg-color);\n",
              "    fill: var(--disabled-fill-color);\n",
              "    box-shadow: none;\n",
              "  }\n",
              "\n",
              "  .colab-df-spinner {\n",
              "    border: 2px solid var(--fill-color);\n",
              "    border-color: transparent;\n",
              "    border-bottom-color: var(--fill-color);\n",
              "    animation:\n",
              "      spin 1s steps(1) infinite;\n",
              "  }\n",
              "\n",
              "  @keyframes spin {\n",
              "    0% {\n",
              "      border-color: transparent;\n",
              "      border-bottom-color: var(--fill-color);\n",
              "      border-left-color: var(--fill-color);\n",
              "    }\n",
              "    20% {\n",
              "      border-color: transparent;\n",
              "      border-left-color: var(--fill-color);\n",
              "      border-top-color: var(--fill-color);\n",
              "    }\n",
              "    30% {\n",
              "      border-color: transparent;\n",
              "      border-left-color: var(--fill-color);\n",
              "      border-top-color: var(--fill-color);\n",
              "      border-right-color: var(--fill-color);\n",
              "    }\n",
              "    40% {\n",
              "      border-color: transparent;\n",
              "      border-right-color: var(--fill-color);\n",
              "      border-top-color: var(--fill-color);\n",
              "    }\n",
              "    60% {\n",
              "      border-color: transparent;\n",
              "      border-right-color: var(--fill-color);\n",
              "    }\n",
              "    80% {\n",
              "      border-color: transparent;\n",
              "      border-right-color: var(--fill-color);\n",
              "      border-bottom-color: var(--fill-color);\n",
              "    }\n",
              "    90% {\n",
              "      border-color: transparent;\n",
              "      border-bottom-color: var(--fill-color);\n",
              "    }\n",
              "  }\n",
              "</style>\n",
              "\n",
              "  <script>\n",
              "    async function quickchart(key) {\n",
              "      const quickchartButtonEl =\n",
              "        document.querySelector('#' + key + ' button');\n",
              "      quickchartButtonEl.disabled = true;  // To prevent multiple clicks.\n",
              "      quickchartButtonEl.classList.add('colab-df-spinner');\n",
              "      try {\n",
              "        const charts = await google.colab.kernel.invokeFunction(\n",
              "            'suggestCharts', [key], {});\n",
              "      } catch (error) {\n",
              "        console.error('Error during call to suggestCharts:', error);\n",
              "      }\n",
              "      quickchartButtonEl.classList.remove('colab-df-spinner');\n",
              "      quickchartButtonEl.classList.add('colab-df-quickchart-complete');\n",
              "    }\n",
              "    (() => {\n",
              "      let quickchartButtonEl =\n",
              "        document.querySelector('#df-ff9d2270-4098-41d6-8e52-58038ca5b509 button');\n",
              "      quickchartButtonEl.style.display =\n",
              "        google.colab.kernel.accessAllowed ? 'block' : 'none';\n",
              "    })();\n",
              "  </script>\n",
              "</div>\n",
              "    </div>\n",
              "  </div>\n"
            ]
          },
          "metadata": {},
          "execution_count": 3
        }
      ],
      "source": [
        "data.head(5)"
      ]
    },
    {
      "cell_type": "code",
      "execution_count": null,
      "metadata": {
        "id": "Q0ZjvtGHIPeG"
      },
      "outputs": [],
      "source": [
        "data_y = data['ended']"
      ]
    },
    {
      "cell_type": "code",
      "execution_count": null,
      "metadata": {
        "id": "uKQekGxOIWzy"
      },
      "outputs": [],
      "source": [
        "data_x = data.drop(columns = ['ended'])"
      ]
    },
    {
      "cell_type": "code",
      "execution_count": null,
      "metadata": {
        "colab": {
          "base_uri": "https://localhost:8080/"
        },
        "id": "6iHWfOYyIgfq",
        "outputId": "989ab8d1-545b-48c2-c230-290b281b324d"
      },
      "outputs": [
        {
          "output_type": "execute_result",
          "data": {
            "text/plain": [
              "0    0\n",
              "1    0\n",
              "2    0\n",
              "3    1\n",
              "4    0\n",
              "Name: ended, dtype: int64"
            ]
          },
          "metadata": {},
          "execution_count": 6
        }
      ],
      "source": [
        "data_y.head(5)"
      ]
    },
    {
      "cell_type": "code",
      "execution_count": null,
      "metadata": {
        "colab": {
          "base_uri": "https://localhost:8080/",
          "height": 273
        },
        "id": "wFsZu5W1Iksw",
        "outputId": "35fa1632-f69f-4053-f176-12a771ae3708"
      },
      "outputs": [
        {
          "output_type": "execute_result",
          "data": {
            "text/plain": [
              "   Unnamed: 0         0         1         2         3         4         5  \\\n",
              "0           0  0.112144 -0.024835  0.062954  0.059289  0.059902  0.013061   \n",
              "1           1 -0.040155 -0.029773  0.039795  0.063586  0.051465  0.062381   \n",
              "2           2  0.129149  0.041479  0.028066  0.031960  0.010417  0.002107   \n",
              "3           3 -0.083624  0.058547  0.037818  0.029454  0.015685  0.002456   \n",
              "4           4 -0.040699  0.003687  0.057338 -0.037602  0.089345  0.037959   \n",
              "\n",
              "          6         7         8  ...       374       375       376       377  \\\n",
              "0  0.020567 -0.012562  0.036716  ...  0.084198  0.012157  0.010347 -0.001909   \n",
              "1 -0.035089 -0.019570 -0.119124  ... -0.008494 -0.001888 -0.001198 -0.018533   \n",
              "2 -0.051047  0.106573 -0.033472  ... -0.019327  0.036544 -0.045330  0.033543   \n",
              "3  0.018189  0.007847  0.020765  ... -0.077354 -0.068553  0.014939 -0.048553   \n",
              "4  0.002849 -0.039542  0.007706  ...  0.073939  0.025814 -0.045195  0.034519   \n",
              "\n",
              "        378       379       380       381       382       383  \n",
              "0  0.068593  0.036979 -0.014276 -0.047814 -0.186423 -0.000642  \n",
              "1 -0.172899  0.035925  0.080160  0.009349 -0.045357  0.073876  \n",
              "2  0.035930 -0.012167 -0.004636 -0.000542  0.034905  0.063359  \n",
              "3  0.014945  0.023252  0.042630 -0.121564 -0.094866 -0.005650  \n",
              "4  0.072605 -0.031004 -0.063632  0.013665  0.056927 -0.038605  \n",
              "\n",
              "[5 rows x 385 columns]"
            ],
            "text/html": [
              "\n",
              "  <div id=\"df-99e5acf1-fedb-4f9b-ae02-7838813555aa\" class=\"colab-df-container\">\n",
              "    <div>\n",
              "<style scoped>\n",
              "    .dataframe tbody tr th:only-of-type {\n",
              "        vertical-align: middle;\n",
              "    }\n",
              "\n",
              "    .dataframe tbody tr th {\n",
              "        vertical-align: top;\n",
              "    }\n",
              "\n",
              "    .dataframe thead th {\n",
              "        text-align: right;\n",
              "    }\n",
              "</style>\n",
              "<table border=\"1\" class=\"dataframe\">\n",
              "  <thead>\n",
              "    <tr style=\"text-align: right;\">\n",
              "      <th></th>\n",
              "      <th>Unnamed: 0</th>\n",
              "      <th>0</th>\n",
              "      <th>1</th>\n",
              "      <th>2</th>\n",
              "      <th>3</th>\n",
              "      <th>4</th>\n",
              "      <th>5</th>\n",
              "      <th>6</th>\n",
              "      <th>7</th>\n",
              "      <th>8</th>\n",
              "      <th>...</th>\n",
              "      <th>374</th>\n",
              "      <th>375</th>\n",
              "      <th>376</th>\n",
              "      <th>377</th>\n",
              "      <th>378</th>\n",
              "      <th>379</th>\n",
              "      <th>380</th>\n",
              "      <th>381</th>\n",
              "      <th>382</th>\n",
              "      <th>383</th>\n",
              "    </tr>\n",
              "  </thead>\n",
              "  <tbody>\n",
              "    <tr>\n",
              "      <th>0</th>\n",
              "      <td>0</td>\n",
              "      <td>0.112144</td>\n",
              "      <td>-0.024835</td>\n",
              "      <td>0.062954</td>\n",
              "      <td>0.059289</td>\n",
              "      <td>0.059902</td>\n",
              "      <td>0.013061</td>\n",
              "      <td>0.020567</td>\n",
              "      <td>-0.012562</td>\n",
              "      <td>0.036716</td>\n",
              "      <td>...</td>\n",
              "      <td>0.084198</td>\n",
              "      <td>0.012157</td>\n",
              "      <td>0.010347</td>\n",
              "      <td>-0.001909</td>\n",
              "      <td>0.068593</td>\n",
              "      <td>0.036979</td>\n",
              "      <td>-0.014276</td>\n",
              "      <td>-0.047814</td>\n",
              "      <td>-0.186423</td>\n",
              "      <td>-0.000642</td>\n",
              "    </tr>\n",
              "    <tr>\n",
              "      <th>1</th>\n",
              "      <td>1</td>\n",
              "      <td>-0.040155</td>\n",
              "      <td>-0.029773</td>\n",
              "      <td>0.039795</td>\n",
              "      <td>0.063586</td>\n",
              "      <td>0.051465</td>\n",
              "      <td>0.062381</td>\n",
              "      <td>-0.035089</td>\n",
              "      <td>-0.019570</td>\n",
              "      <td>-0.119124</td>\n",
              "      <td>...</td>\n",
              "      <td>-0.008494</td>\n",
              "      <td>-0.001888</td>\n",
              "      <td>-0.001198</td>\n",
              "      <td>-0.018533</td>\n",
              "      <td>-0.172899</td>\n",
              "      <td>0.035925</td>\n",
              "      <td>0.080160</td>\n",
              "      <td>0.009349</td>\n",
              "      <td>-0.045357</td>\n",
              "      <td>0.073876</td>\n",
              "    </tr>\n",
              "    <tr>\n",
              "      <th>2</th>\n",
              "      <td>2</td>\n",
              "      <td>0.129149</td>\n",
              "      <td>0.041479</td>\n",
              "      <td>0.028066</td>\n",
              "      <td>0.031960</td>\n",
              "      <td>0.010417</td>\n",
              "      <td>0.002107</td>\n",
              "      <td>-0.051047</td>\n",
              "      <td>0.106573</td>\n",
              "      <td>-0.033472</td>\n",
              "      <td>...</td>\n",
              "      <td>-0.019327</td>\n",
              "      <td>0.036544</td>\n",
              "      <td>-0.045330</td>\n",
              "      <td>0.033543</td>\n",
              "      <td>0.035930</td>\n",
              "      <td>-0.012167</td>\n",
              "      <td>-0.004636</td>\n",
              "      <td>-0.000542</td>\n",
              "      <td>0.034905</td>\n",
              "      <td>0.063359</td>\n",
              "    </tr>\n",
              "    <tr>\n",
              "      <th>3</th>\n",
              "      <td>3</td>\n",
              "      <td>-0.083624</td>\n",
              "      <td>0.058547</td>\n",
              "      <td>0.037818</td>\n",
              "      <td>0.029454</td>\n",
              "      <td>0.015685</td>\n",
              "      <td>0.002456</td>\n",
              "      <td>0.018189</td>\n",
              "      <td>0.007847</td>\n",
              "      <td>0.020765</td>\n",
              "      <td>...</td>\n",
              "      <td>-0.077354</td>\n",
              "      <td>-0.068553</td>\n",
              "      <td>0.014939</td>\n",
              "      <td>-0.048553</td>\n",
              "      <td>0.014945</td>\n",
              "      <td>0.023252</td>\n",
              "      <td>0.042630</td>\n",
              "      <td>-0.121564</td>\n",
              "      <td>-0.094866</td>\n",
              "      <td>-0.005650</td>\n",
              "    </tr>\n",
              "    <tr>\n",
              "      <th>4</th>\n",
              "      <td>4</td>\n",
              "      <td>-0.040699</td>\n",
              "      <td>0.003687</td>\n",
              "      <td>0.057338</td>\n",
              "      <td>-0.037602</td>\n",
              "      <td>0.089345</td>\n",
              "      <td>0.037959</td>\n",
              "      <td>0.002849</td>\n",
              "      <td>-0.039542</td>\n",
              "      <td>0.007706</td>\n",
              "      <td>...</td>\n",
              "      <td>0.073939</td>\n",
              "      <td>0.025814</td>\n",
              "      <td>-0.045195</td>\n",
              "      <td>0.034519</td>\n",
              "      <td>0.072605</td>\n",
              "      <td>-0.031004</td>\n",
              "      <td>-0.063632</td>\n",
              "      <td>0.013665</td>\n",
              "      <td>0.056927</td>\n",
              "      <td>-0.038605</td>\n",
              "    </tr>\n",
              "  </tbody>\n",
              "</table>\n",
              "<p>5 rows × 385 columns</p>\n",
              "</div>\n",
              "    <div class=\"colab-df-buttons\">\n",
              "\n",
              "  <div class=\"colab-df-container\">\n",
              "    <button class=\"colab-df-convert\" onclick=\"convertToInteractive('df-99e5acf1-fedb-4f9b-ae02-7838813555aa')\"\n",
              "            title=\"Convert this dataframe to an interactive table.\"\n",
              "            style=\"display:none;\">\n",
              "\n",
              "  <svg xmlns=\"http://www.w3.org/2000/svg\" height=\"24px\" viewBox=\"0 -960 960 960\">\n",
              "    <path d=\"M120-120v-720h720v720H120Zm60-500h600v-160H180v160Zm220 220h160v-160H400v160Zm0 220h160v-160H400v160ZM180-400h160v-160H180v160Zm440 0h160v-160H620v160ZM180-180h160v-160H180v160Zm440 0h160v-160H620v160Z\"/>\n",
              "  </svg>\n",
              "    </button>\n",
              "\n",
              "  <style>\n",
              "    .colab-df-container {\n",
              "      display:flex;\n",
              "      gap: 12px;\n",
              "    }\n",
              "\n",
              "    .colab-df-convert {\n",
              "      background-color: #E8F0FE;\n",
              "      border: none;\n",
              "      border-radius: 50%;\n",
              "      cursor: pointer;\n",
              "      display: none;\n",
              "      fill: #1967D2;\n",
              "      height: 32px;\n",
              "      padding: 0 0 0 0;\n",
              "      width: 32px;\n",
              "    }\n",
              "\n",
              "    .colab-df-convert:hover {\n",
              "      background-color: #E2EBFA;\n",
              "      box-shadow: 0px 1px 2px rgba(60, 64, 67, 0.3), 0px 1px 3px 1px rgba(60, 64, 67, 0.15);\n",
              "      fill: #174EA6;\n",
              "    }\n",
              "\n",
              "    .colab-df-buttons div {\n",
              "      margin-bottom: 4px;\n",
              "    }\n",
              "\n",
              "    [theme=dark] .colab-df-convert {\n",
              "      background-color: #3B4455;\n",
              "      fill: #D2E3FC;\n",
              "    }\n",
              "\n",
              "    [theme=dark] .colab-df-convert:hover {\n",
              "      background-color: #434B5C;\n",
              "      box-shadow: 0px 1px 3px 1px rgba(0, 0, 0, 0.15);\n",
              "      filter: drop-shadow(0px 1px 2px rgba(0, 0, 0, 0.3));\n",
              "      fill: #FFFFFF;\n",
              "    }\n",
              "  </style>\n",
              "\n",
              "    <script>\n",
              "      const buttonEl =\n",
              "        document.querySelector('#df-99e5acf1-fedb-4f9b-ae02-7838813555aa button.colab-df-convert');\n",
              "      buttonEl.style.display =\n",
              "        google.colab.kernel.accessAllowed ? 'block' : 'none';\n",
              "\n",
              "      async function convertToInteractive(key) {\n",
              "        const element = document.querySelector('#df-99e5acf1-fedb-4f9b-ae02-7838813555aa');\n",
              "        const dataTable =\n",
              "          await google.colab.kernel.invokeFunction('convertToInteractive',\n",
              "                                                    [key], {});\n",
              "        if (!dataTable) return;\n",
              "\n",
              "        const docLinkHtml = 'Like what you see? Visit the ' +\n",
              "          '<a target=\"_blank\" href=https://colab.research.google.com/notebooks/data_table.ipynb>data table notebook</a>'\n",
              "          + ' to learn more about interactive tables.';\n",
              "        element.innerHTML = '';\n",
              "        dataTable['output_type'] = 'display_data';\n",
              "        await google.colab.output.renderOutput(dataTable, element);\n",
              "        const docLink = document.createElement('div');\n",
              "        docLink.innerHTML = docLinkHtml;\n",
              "        element.appendChild(docLink);\n",
              "      }\n",
              "    </script>\n",
              "  </div>\n",
              "\n",
              "\n",
              "<div id=\"df-f6ecea33-da01-45da-b355-386a798f2171\">\n",
              "  <button class=\"colab-df-quickchart\" onclick=\"quickchart('df-f6ecea33-da01-45da-b355-386a798f2171')\"\n",
              "            title=\"Suggest charts\"\n",
              "            style=\"display:none;\">\n",
              "\n",
              "<svg xmlns=\"http://www.w3.org/2000/svg\" height=\"24px\"viewBox=\"0 0 24 24\"\n",
              "     width=\"24px\">\n",
              "    <g>\n",
              "        <path d=\"M19 3H5c-1.1 0-2 .9-2 2v14c0 1.1.9 2 2 2h14c1.1 0 2-.9 2-2V5c0-1.1-.9-2-2-2zM9 17H7v-7h2v7zm4 0h-2V7h2v10zm4 0h-2v-4h2v4z\"/>\n",
              "    </g>\n",
              "</svg>\n",
              "  </button>\n",
              "\n",
              "<style>\n",
              "  .colab-df-quickchart {\n",
              "      --bg-color: #E8F0FE;\n",
              "      --fill-color: #1967D2;\n",
              "      --hover-bg-color: #E2EBFA;\n",
              "      --hover-fill-color: #174EA6;\n",
              "      --disabled-fill-color: #AAA;\n",
              "      --disabled-bg-color: #DDD;\n",
              "  }\n",
              "\n",
              "  [theme=dark] .colab-df-quickchart {\n",
              "      --bg-color: #3B4455;\n",
              "      --fill-color: #D2E3FC;\n",
              "      --hover-bg-color: #434B5C;\n",
              "      --hover-fill-color: #FFFFFF;\n",
              "      --disabled-bg-color: #3B4455;\n",
              "      --disabled-fill-color: #666;\n",
              "  }\n",
              "\n",
              "  .colab-df-quickchart {\n",
              "    background-color: var(--bg-color);\n",
              "    border: none;\n",
              "    border-radius: 50%;\n",
              "    cursor: pointer;\n",
              "    display: none;\n",
              "    fill: var(--fill-color);\n",
              "    height: 32px;\n",
              "    padding: 0;\n",
              "    width: 32px;\n",
              "  }\n",
              "\n",
              "  .colab-df-quickchart:hover {\n",
              "    background-color: var(--hover-bg-color);\n",
              "    box-shadow: 0 1px 2px rgba(60, 64, 67, 0.3), 0 1px 3px 1px rgba(60, 64, 67, 0.15);\n",
              "    fill: var(--button-hover-fill-color);\n",
              "  }\n",
              "\n",
              "  .colab-df-quickchart-complete:disabled,\n",
              "  .colab-df-quickchart-complete:disabled:hover {\n",
              "    background-color: var(--disabled-bg-color);\n",
              "    fill: var(--disabled-fill-color);\n",
              "    box-shadow: none;\n",
              "  }\n",
              "\n",
              "  .colab-df-spinner {\n",
              "    border: 2px solid var(--fill-color);\n",
              "    border-color: transparent;\n",
              "    border-bottom-color: var(--fill-color);\n",
              "    animation:\n",
              "      spin 1s steps(1) infinite;\n",
              "  }\n",
              "\n",
              "  @keyframes spin {\n",
              "    0% {\n",
              "      border-color: transparent;\n",
              "      border-bottom-color: var(--fill-color);\n",
              "      border-left-color: var(--fill-color);\n",
              "    }\n",
              "    20% {\n",
              "      border-color: transparent;\n",
              "      border-left-color: var(--fill-color);\n",
              "      border-top-color: var(--fill-color);\n",
              "    }\n",
              "    30% {\n",
              "      border-color: transparent;\n",
              "      border-left-color: var(--fill-color);\n",
              "      border-top-color: var(--fill-color);\n",
              "      border-right-color: var(--fill-color);\n",
              "    }\n",
              "    40% {\n",
              "      border-color: transparent;\n",
              "      border-right-color: var(--fill-color);\n",
              "      border-top-color: var(--fill-color);\n",
              "    }\n",
              "    60% {\n",
              "      border-color: transparent;\n",
              "      border-right-color: var(--fill-color);\n",
              "    }\n",
              "    80% {\n",
              "      border-color: transparent;\n",
              "      border-right-color: var(--fill-color);\n",
              "      border-bottom-color: var(--fill-color);\n",
              "    }\n",
              "    90% {\n",
              "      border-color: transparent;\n",
              "      border-bottom-color: var(--fill-color);\n",
              "    }\n",
              "  }\n",
              "</style>\n",
              "\n",
              "  <script>\n",
              "    async function quickchart(key) {\n",
              "      const quickchartButtonEl =\n",
              "        document.querySelector('#' + key + ' button');\n",
              "      quickchartButtonEl.disabled = true;  // To prevent multiple clicks.\n",
              "      quickchartButtonEl.classList.add('colab-df-spinner');\n",
              "      try {\n",
              "        const charts = await google.colab.kernel.invokeFunction(\n",
              "            'suggestCharts', [key], {});\n",
              "      } catch (error) {\n",
              "        console.error('Error during call to suggestCharts:', error);\n",
              "      }\n",
              "      quickchartButtonEl.classList.remove('colab-df-spinner');\n",
              "      quickchartButtonEl.classList.add('colab-df-quickchart-complete');\n",
              "    }\n",
              "    (() => {\n",
              "      let quickchartButtonEl =\n",
              "        document.querySelector('#df-f6ecea33-da01-45da-b355-386a798f2171 button');\n",
              "      quickchartButtonEl.style.display =\n",
              "        google.colab.kernel.accessAllowed ? 'block' : 'none';\n",
              "    })();\n",
              "  </script>\n",
              "</div>\n",
              "    </div>\n",
              "  </div>\n"
            ]
          },
          "metadata": {},
          "execution_count": 7
        }
      ],
      "source": [
        "data_x.head(5)"
      ]
    },
    {
      "cell_type": "code",
      "execution_count": null,
      "metadata": {
        "id": "GqtXEA55Io-p"
      },
      "outputs": [],
      "source": [
        "data_x = data_x.drop(columns = ['Unnamed: 0'])"
      ]
    },
    {
      "cell_type": "code",
      "execution_count": null,
      "metadata": {
        "colab": {
          "base_uri": "https://localhost:8080/"
        },
        "id": "aUM-2WKWI-Q8",
        "outputId": "77d30a54-94ea-4f94-e277-7726006e3fce"
      },
      "outputs": [
        {
          "output_type": "execute_result",
          "data": {
            "text/plain": [
              "(100000, 384)"
            ]
          },
          "metadata": {},
          "execution_count": 9
        }
      ],
      "source": [
        "data_x.shape"
      ]
    },
    {
      "cell_type": "code",
      "execution_count": null,
      "metadata": {
        "id": "uAqiwnD5JE3K"
      },
      "outputs": [],
      "source": [
        "from tensorflow.keras.preprocessing import sequence"
      ]
    },
    {
      "cell_type": "code",
      "execution_count": null,
      "metadata": {
        "id": "6hHqcSLtJxsO"
      },
      "outputs": [],
      "source": [
        "from tensorflow.keras import layers, models, optimizers"
      ]
    },
    {
      "cell_type": "code",
      "execution_count": null,
      "metadata": {
        "id": "4qfRNcHRJ74y"
      },
      "outputs": [],
      "source": [
        "from sklearn.model_selection import train_test_split"
      ]
    },
    {
      "cell_type": "code",
      "execution_count": null,
      "metadata": {
        "id": "8o1b2FbTKiJQ"
      },
      "outputs": [],
      "source": [
        "train_x, test_x, train_y, test_y = train_test_split(data_x, data_y)"
      ]
    },
    {
      "cell_type": "code",
      "execution_count": null,
      "metadata": {
        "colab": {
          "base_uri": "https://localhost:8080/"
        },
        "id": "iuPn5GxCLGdC",
        "outputId": "1cd8943d-7c40-42be-f153-4d68d4ae2f30"
      },
      "outputs": [
        {
          "output_type": "execute_result",
          "data": {
            "text/plain": [
              "(75000, 384)"
            ]
          },
          "metadata": {},
          "execution_count": 14
        }
      ],
      "source": [
        "train_x.shape"
      ]
    },
    {
      "cell_type": "code",
      "execution_count": null,
      "metadata": {
        "id": "ACYkEBZ0LIqP"
      },
      "outputs": [],
      "source": [
        "#conv1d_input->conv1d->max_pooling_1d->lstm(64)->dense(128)->dense(64)->dense(32)->o/p\n",
        "#conv1d_input->conv1d->max_pooling_1d->conv1d->lstm(64)->dense(128)->dense(64)->dense(32)->o/p\n",
        "#conv1d_input->conv1d->max_pooling_1d->lstm(64)->dropout->dense(128)->dropout->dense(128)->dropout->dense(128)->o/p"
      ]
    },
    {
      "cell_type": "code",
      "source": [
        "from tensorflow.keras.layers import Input, Dense, Conv1D, BatchNormalization, Dropout, GlobalMaxPooling1D, Flatten, Concatenate\n",
        "from tensorflow.keras.models import Model"
      ],
      "metadata": {
        "id": "Iq6fyHSxS52v"
      },
      "execution_count": null,
      "outputs": []
    },
    {
      "cell_type": "code",
      "source": [
        "input = Input(shape = (train_x.shape[1],1,))"
      ],
      "metadata": {
        "id": "J0IuXt9MS52v"
      },
      "execution_count": null,
      "outputs": []
    },
    {
      "cell_type": "code",
      "source": [
        "conv = Conv1D(128, 1, activation = 'relu')(input)"
      ],
      "metadata": {
        "id": "WhFsGTtpS52v"
      },
      "execution_count": null,
      "outputs": []
    },
    {
      "cell_type": "code",
      "source": [
        "conv = Conv1D(128, 1, activation = 'relu')(conv)"
      ],
      "metadata": {
        "id": "RF6kEXs4yMi7"
      },
      "execution_count": null,
      "outputs": []
    },
    {
      "cell_type": "code",
      "source": [
        "conv = BatchNormalization()(conv)"
      ],
      "metadata": {
        "id": "g3u7ra8GCSGQ"
      },
      "execution_count": null,
      "outputs": []
    },
    {
      "cell_type": "code",
      "source": [
        "conv = Dropout(0.2)(conv)"
      ],
      "metadata": {
        "id": "d-CjhQrbCcLK"
      },
      "execution_count": null,
      "outputs": []
    },
    {
      "cell_type": "code",
      "source": [
        "maxpool = GlobalMaxPooling1D()(conv)"
      ],
      "metadata": {
        "id": "zqK92-EHDRtG"
      },
      "execution_count": null,
      "outputs": []
    },
    {
      "cell_type": "code",
      "source": [
        "flatten = Flatten()(input)"
      ],
      "metadata": {
        "id": "jov1jPRCHoCZ"
      },
      "execution_count": null,
      "outputs": []
    },
    {
      "cell_type": "code",
      "source": [
        "hidden = Dense(32, activation = 'relu')(flatten)"
      ],
      "metadata": {
        "id": "-rQU5Vq7H7dy"
      },
      "execution_count": null,
      "outputs": []
    },
    {
      "cell_type": "code",
      "source": [
        "hidden = BatchNormalization()(hidden)"
      ],
      "metadata": {
        "id": "aOsKLhm1IG19"
      },
      "execution_count": null,
      "outputs": []
    },
    {
      "cell_type": "code",
      "source": [
        "hidden = Dropout(0.2)(hidden)"
      ],
      "metadata": {
        "id": "5zsHCuGPIPKb"
      },
      "execution_count": null,
      "outputs": []
    },
    {
      "cell_type": "code",
      "source": [
        "concat = Concatenate()([maxpool, hidden])"
      ],
      "metadata": {
        "id": "0bXvGK9rIVCS"
      },
      "execution_count": null,
      "outputs": []
    },
    {
      "cell_type": "code",
      "source": [
        "output = Dense(1, activation = 'sigmoid')(concat)"
      ],
      "metadata": {
        "id": "H_BAdcZrS52w"
      },
      "execution_count": null,
      "outputs": []
    },
    {
      "cell_type": "code",
      "source": [
        "model = Model(inputs = input, outputs = output)"
      ],
      "metadata": {
        "id": "NoZPYfaJS52w"
      },
      "execution_count": null,
      "outputs": []
    },
    {
      "cell_type": "code",
      "source": [
        "model = Model(inputs = input, outputs = output)"
      ],
      "metadata": {
        "id": "FaMrgYnoEaGZ"
      },
      "execution_count": null,
      "outputs": []
    },
    {
      "cell_type": "code",
      "execution_count": null,
      "metadata": {
        "id": "0G1h5p9-UTni"
      },
      "outputs": [],
      "source": [
        "model.compile(loss = 'binary_crossentropy', optimizer = 'adam', metrics = ['accuracy'])"
      ]
    },
    {
      "cell_type": "code",
      "source": [
        "accuracy = model.fit(train_x, train_y, epochs = 1, validation_split = 0.1)"
      ],
      "metadata": {
        "colab": {
          "base_uri": "https://localhost:8080/"
        },
        "id": "rPOABjkX0xh6",
        "outputId": "1101158e-01e8-4f93-f6b1-d17fadf4f3b5"
      },
      "execution_count": null,
      "outputs": [
        {
          "output_type": "stream",
          "name": "stdout",
          "text": [
            "2110/2110 [==============================] - 197s 93ms/step - loss: 0.5962 - accuracy: 0.6439 - val_loss: 0.5690 - val_accuracy: 0.6605\n"
          ]
        }
      ]
    },
    {
      "cell_type": "code",
      "source": [
        "from tensorflow.keras.utils import plot_model\n",
        "plot_model(model, to_file='model_plot.png', show_shapes=True, show_layer_names=True)"
      ],
      "metadata": {
        "colab": {
          "base_uri": "https://localhost:8080/",
          "height": 865
        },
        "id": "RXGEFC80InBP",
        "outputId": "393850cf-6b8d-4c0c-f227-bd9fceebff2a"
      },
      "execution_count": null,
      "outputs": [
        {
          "output_type": "execute_result",
          "data": {
            "image/png": "[encoded data removed]",
            "text/plain": [
              "<IPython.core.display.Image object>"
            ]
          },
          "metadata": {},
          "execution_count": 80
        }
      ]
    },
    {
      "cell_type": "code",
      "source": [
        "pred = model.predict(test_x)"
      ],
      "metadata": {
        "colab": {
          "base_uri": "https://localhost:8080/"
        },
        "id": "eC0x4VUJMoXs",
        "outputId": "4f499370-9ccc-44ec-a6db-e363ebabc072"
      },
      "execution_count": null,
      "outputs": [
        {
          "output_type": "stream",
          "name": "stdout",
          "text": [
            "782/782 [==============================] - 8s 10ms/step\n"
          ]
        }
      ]
    },
    {
      "cell_type": "code",
      "source": [
        "pred"
      ],
      "metadata": {
        "colab": {
          "base_uri": "https://localhost:8080/"
        },
        "id": "haFmis01Mm1D",
        "outputId": "68cf6c52-b5ea-45f9-9627-f66adfbb740c"
      },
      "execution_count": null,
      "outputs": [
        {
          "output_type": "execute_result",
          "data": {
            "text/plain": [
              "array([[0.543309  ],\n",
              "       [0.54689175],\n",
              "       [0.54460657],\n",
              "       ...,\n",
              "       [0.5489914 ],\n",
              "       [0.5444825 ],\n",
              "       [0.55045635]], dtype=float32)"
            ]
          },
          "metadata": {},
          "execution_count": 64
        }
      ]
    },
    {
      "cell_type": "code",
      "source": [
        "pred2 = pred"
      ],
      "metadata": {
        "id": "YRz72QBrL71b"
      },
      "execution_count": null,
      "outputs": []
    },
    {
      "cell_type": "code",
      "source": [
        "pred2 = [1 if i >=0.5 else 0 for i in pred2]"
      ],
      "metadata": {
        "id": "BJMXHoX_L9zL"
      },
      "execution_count": null,
      "outputs": []
    },
    {
      "cell_type": "code",
      "execution_count": null,
      "metadata": {
        "id": "HUewkcIxYQba"
      },
      "outputs": [],
      "source": [
        "from sklearn.metrics import mean_squared_error, accuracy_score"
      ]
    },
    {
      "cell_type": "code",
      "execution_count": null,
      "metadata": {
        "id": "6mnBxVz0F8wx",
        "colab": {
          "base_uri": "https://localhost:8080/"
        },
        "outputId": "0e69445c-17ec-43cd-80b0-af9deace90ba"
      },
      "outputs": [
        {
          "output_type": "execute_result",
          "data": {
            "text/plain": [
              "0.2478019821713988"
            ]
          },
          "metadata": {},
          "execution_count": 68
        }
      ],
      "source": [
        "mean_squared_error(test_y, pred)"
      ]
    },
    {
      "cell_type": "code",
      "source": [
        "accuracy_score(test_y, pred2)"
      ],
      "metadata": {
        "colab": {
          "base_uri": "https://localhost:8080/"
        },
        "id": "Tf6pN2QkMEJz",
        "outputId": "b6894c13-8b06-49a0-eaea-5e5d8a6cf035"
      },
      "execution_count": null,
      "outputs": [
        {
          "output_type": "execute_result",
          "data": {
            "text/plain": [
              "0.54632"
            ]
          },
          "metadata": {},
          "execution_count": 69
        }
      ]
    },
    {
      "cell_type": "code",
      "source": [
        "from matplotlib import pyplot as plt\n",
        "plt.plot(accuracy.history['accuracy'])\n",
        "plt.plot(accuracy.history['val_accuracy'])\n",
        "plt.show()"
      ],
      "metadata": {
        "colab": {
          "base_uri": "https://localhost:8080/",
          "height": 430
        },
        "id": "xAgPtC2Csc7j",
        "outputId": "c2e04b4d-3c48-4c54-fefe-e20ecd759410"
      },
      "execution_count": null,
      "outputs": [
        {
          "output_type": "display_data",
          "data": {
            "text/plain": [
              "<Figure size 640x480 with 1 Axes>"
            ],
            "image/png": "[encoded data removed]"
          },
          "metadata": {}
        }
      ]
    },
    {
      "cell_type": "code",
      "source": [
        "from matplotlib import pyplot as plt\n",
        "plt.plot(accuracy.history['loss'])\n",
        "plt.plot(accuracy.history['val_loss'])\n",
        "plt.show()"
      ],
      "metadata": {
        "colab": {
          "base_uri": "https://localhost:8080/",
          "height": 430
        },
        "id": "_5aTFO1qcO-I",
        "outputId": "8b4b6bfe-7ae0-48b0-db7e-4295af177a75"
      },
      "execution_count": null,
      "outputs": [
        {
          "output_type": "display_data",
          "data": {
            "text/plain": [
              "<Figure size 640x480 with 1 Axes>"
            ],
            "image/png": "[encoded data removed]"
          },
          "metadata": {}
        }
      ]
    },
    {
      "cell_type": "code",
      "source": [
        "from sklearn.metrics import roc_curve, auc\n",
        "fpr, tpr, _=roc_curve(test_y, pred2)\n",
        "plt.plot(fpr, tpr, label='ROC Curve')"
      ],
      "metadata": {
        "colab": {
          "base_uri": "https://localhost:8080/",
          "height": 447
        },
        "id": "XTODe2u2sedg",
        "outputId": "bc0505c9-f5cc-4053-e110-63d41bbdd828"
      },
      "execution_count": null,
      "outputs": [
        {
          "output_type": "execute_result",
          "data": {
            "text/plain": [
              "[<matplotlib.lines.Line2D at 0x7b7193ebed40>]"
            ]
          },
          "metadata": {},
          "execution_count": 72
        },
        {
          "output_type": "display_data",
          "data": {
            "text/plain": [
              "<Figure size 640x480 with 1 Axes>"
            ],
            "image/png": "[encoded data removed]"
          },
          "metadata": {}
        }
      ]
    },
    {
      "cell_type": "code",
      "source": [
        "from sklearn.metrics import classification_report\n",
        "classification_report(test_y, pred2)"
      ],
      "metadata": {
        "colab": {
          "base_uri": "https://localhost:8080/",
          "height": 194
        },
        "id": "fxLE4JDmxbi6",
        "outputId": "69a8616d-f837-4505-b4d6-eb840fb5fa3a"
      },
      "execution_count": null,
      "outputs": [
        {
          "output_type": "stream",
          "name": "stderr",
          "text": [
            "/usr/local/lib/python3.10/dist-packages/sklearn/metrics/_classification.py:1344: UndefinedMetricWarning: Precision and F-score are ill-defined and being set to 0.0 in labels with no predicted samples. Use `zero_division` parameter to control this behavior.\n",
            "  _warn_prf(average, modifier, msg_start, len(result))\n",
            "/usr/local/lib/python3.10/dist-packages/sklearn/metrics/_classification.py:1344: UndefinedMetricWarning: Precision and F-score are ill-defined and being set to 0.0 in labels with no predicted samples. Use `zero_division` parameter to control this behavior.\n",
            "  _warn_prf(average, modifier, msg_start, len(result))\n",
            "/usr/local/lib/python3.10/dist-packages/sklearn/metrics/_classification.py:1344: UndefinedMetricWarning: Precision and F-score are ill-defined and being set to 0.0 in labels with no predicted samples. Use `zero_division` parameter to control this behavior.\n",
            "  _warn_prf(average, modifier, msg_start, len(result))\n"
          ]
        },
        {
          "output_type": "execute_result",
          "data": {
            "text/plain": [
              "'              precision    recall  f1-score   support\\n\\n           0       0.00      0.00      0.00     11342\\n           1       0.55      1.00      0.71     13658\\n\\n    accuracy                           0.55     25000\\n   macro avg       0.27      0.50      0.35     25000\\nweighted avg       0.30      0.55      0.39     25000\\n'"
            ],
            "application/vnd.google.colaboratory.intrinsic+json": {
              "type": "string"
            }
          },
          "metadata": {},
          "execution_count": 73
        }
      ]
    },
    {
      "cell_type": "markdown",
      "source": [
        "                precision    recall  f1-score   support\n",
        "\n",
        "           0       0.60      0.83      0.69     11305\n",
        "           1       0.80      0.53      0.64     13695\n",
        "\n",
        "    accuracy                           0.67     25000\n",
        "   macro avg       0.70      0.68      0.67     25000\n",
        "weighted avg       0.71      0.67      0.66     25000\n"
      ],
      "metadata": {
        "id": "1qRmQ3iXxsb8"
      }
    },
    {
      "cell_type": "code",
      "source": [
        "print('random behaviour')"
      ],
      "metadata": {
        "id": "v24ddmrij-l7"
      },
      "execution_count": null,
      "outputs": []
    },
    {
      "cell_type": "code",
      "source": [
        "model.save('/content/drive/MyDrive/ColabNotebooks/PickleModel', save_format = \"h5\")"
      ],
      "metadata": {
        "id": "vVdChaxGKehG"
      },
      "execution_count": null,
      "outputs": []
    },
    {
      "cell_type": "code",
      "source": [
        "import pickle\n",
        "pickle.dump(model, open('model.pkl', 'wb'))"
      ],
      "metadata": {
        "id": "7mZ6ZC3Q3CUK"
      },
      "execution_count": null,
      "outputs": []
    },
    {
      "cell_type": "code",
      "source": [],
      "metadata": {
        "id": "llvpeUF73Gmu"
      },
      "execution_count": null,
      "outputs": []
    }
  ]
}
